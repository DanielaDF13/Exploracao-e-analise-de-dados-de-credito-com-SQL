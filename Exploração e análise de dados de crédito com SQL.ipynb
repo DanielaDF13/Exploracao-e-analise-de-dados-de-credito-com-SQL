{
  "nbformat": 4,
  "nbformat_minor": 0,
  "metadata": {
    "colab": {
      "provenance": []
    },
    "kernelspec": {
      "name": "python3",
      "display_name": "Python 3"
    },
    "language_info": {
      "name": "python"
    }
  },
  "cells": [
    {
      "cell_type": "markdown",
      "source": [
        "<img src=\"https://raw.githubusercontent.com/andre-marcos-perez/ebac-course-utils/main/media/logo/newebac_logo_black_half.png\" alt=\"ebac-logo\">\n",
        "\n"
      ],
      "metadata": {
        "id": "W6J0J8y9Kd2N"
      }
    },
    {
      "cell_type": "markdown",
      "source": [
        "---"
      ],
      "metadata": {
        "id": "ImsXtSIwK1rU"
      }
    },
    {
      "cell_type": "markdown",
      "source": [
        "# **Exploração e análise de dados de crédito com SQL**\n",
        "\n",
        "\n",
        "## Os dados:\n",
        "\n",
        "Os dados representam informações de clientes de um banco e contam com as seguintes colunas:\n",
        "<center>\n",
        "\n",
        "| Variável                | Descrição                                                | Tipo         |\n",
        "| ----------------------- |:--------------------------------------------------------:| ------------:|\n",
        "| idade                   |  idade do cliente                                        |     Inteiro  |\n",
        "| sexo                    |  M = 'Masculino'; F = 'Feminino'                         |      M/F     |\n",
        "| dependentes             |  número de dependentes do cliente                        |    Inteiro   |\n",
        "| escolaridade            |  nível de escolaridade do clientes                       |    Texto     |\n",
        "| salario_anual           |  faixa salarial do cliente                               |    Texto     |\n",
        "| tipo_cartao             |  tipo de cartao do cliente                               |     Texto    |\n",
        "| qtd_produtos            |  quantidade de produtos comprados nos últimos 12 meses   |     Inteiro  |\n",
        "| iteracoes_12m           |  quantidade de iterações/transacoes nos ultimos 12 meses |     Inteiro  |\n",
        "| meses_inativo_12m       |  quantidade de meses que o cliente ficou inativo         |    Inteiro   |\n",
        "| limite_credito          |  limite de credito do cliente                            |    Float     |\n",
        "| valor_transacoes_12m    |  valor das transações dos ultimos 12 meses               |    Float     |\n",
        "| qtd_transacoes_12m      |  quantidade de transacoes dos ultimos 12 meses           |    Inteiro   |\n",
        "\n",
        "</center>\n",
        "<br>\n",
        "\n",
        "A tabela foi criada no **AWS Athena** junto com o **S3 Bucket** com uma versão dos dados disponibilizados em: https://github.com/andre-marcos-perez/ebac-course-utils/tree/main/dataset"
      ],
      "metadata": {
        "id": "hExB3OVhKmLu"
      }
    },
    {
      "cell_type": "markdown",
      "source": [
        "---"
      ],
      "metadata": {
        "id": "cVxCMF8PK40T"
      }
    },
    {
      "cell_type": "markdown",
      "source": [
        "## **Exploração de dados:**\n",
        "\n",
        "**Quantidade e informações temos na nossa base de dados**\n",
        "\n",
        "\n",
        "Com o comando <br>\n",
        "**Query:** SELECT count(*) FROM credito\n",
        "\n",
        "> Reposta: 2564 linhas <br>\n",
        "\n",
        "Temos a quantidade de linhas do dataset, importante se reforçar que esse dataset é um fragmento do dataset original disponível no link acima, que foi selecionado para estudo por limites computacionais e financeiros, porém quanto maior a quantidade de dados utilizada, mais confiável a análise.\n"
      ],
      "metadata": {
        "id": "_P8tKgKZLUWT"
      }
    },
    {
      "cell_type": "markdown",
      "source": [
        "**Tipos de dados**\n",
        "\n",
        "**Query:** DESCRIBE credito\n",
        "\n",
        "![Tipos de dados](https://github.com/DanielaDF13/Exploracao-e-analise-de-dados-de-credito-com-SQL/blob/main/img/tipo-de-variaveis.png?raw=true)"
      ],
      "metadata": {
        "id": "wL98maMyLv1b"
      }
    },
    {
      "cell_type": "markdown",
      "source": [
        "**Dataset**\n",
        "\n",
        "\n",
        "**Query:** SELECT * FROM credito LIMIT 10;\n",
        "\n",
        "![Dez primeiras linhas do dataset](https://github.com/DanielaDF13/Exploracao-e-analise-de-dados-de-credito-com-SQL/blob/main/img/dados.png?raw=true)\n",
        "\n",
        "É possível reparar que existem algumas informações nulas na tabela (valor na)."
      ],
      "metadata": {
        "id": "adQIoks7Nrmj"
      }
    },
    {
      "cell_type": "markdown",
      "source": [
        "**Explorando variáveis categóricas do dataset**\n",
        "\n",
        "Com as respectivas querys foi formado essas tabelas e agrupadas em apenas uma imagem.<br>\n",
        "\n",
        "\n",
        "\n",
        "**Query:** SELECT DISTINCT escolaridade FROM credito <br>\n",
        "**Query:** SELECT DISTINCT estado_civil  FROM credito <br>\n",
        "**Query:** SELECT DISTINCT salario_anual  FROM credito <br>\n",
        "**Query:** SELECT DISTINCT tipo_cartao  FROM credito <br>\n",
        "\n",
        "\n",
        "<br>\n",
        "\n",
        "\n",
        "![Tipos](https://github.com/DanielaDF13/Exploracao-e-analise-de-dados-de-credito-com-SQL/blob/main/img/Explora%C3%A7%C3%A3o%20de%20dados.png?raw=true)\n",
        "\n",
        "\n",
        "Novamente pode-se notar informações nulas na tabela, isso deverá ser tratado nas próximos comandos.\n"
      ],
      "metadata": {
        "id": "cBA9ZgqeOpIa"
      }
    },
    {
      "cell_type": "markdown",
      "source": [
        "## **Análise de dados**\n",
        "\n",
        "Após exploramos os dados e entendemos as informções no banco de dados, podemos analisar as informações para buscar entender o que está acontecendo no banco de dados.\n",
        "\n",
        "**Escolaridade dos clientes**\n",
        "\n",
        "**Query:** SELECT count(*), escolaridade from credito group by escolaridade\n",
        "<center>\n",
        "\n",
        "![Escolaridade dos cliente](https://github.com/DanielaDF13/Exploracao-e-analise-de-dados-de-credito-com-SQL/blob/main/img/distribui%C3%A7%C3%A3o%20escolaridade.png?raw=true)\n",
        "\n",
        "![Grafico escolaridade dos cliente](https://github.com/DanielaDF13/Exploracao-e-analise-de-dados-de-credito-com-SQL/blob/main/img/distribui%C3%A7%C3%A3o%20escolaridade%20grafico.png?raw=true)\n",
        "\n",
        "</center>\n",
        "\n",
        "> A maioria dos clientes dessa base de dados possuem mestrado como escolaridade, seguido por ensino médio e existem 346 clientes que não informaram ou não consta a escolaridade.\n",
        "\n",
        "**Faixa salarial dos cliente**\n",
        "\n",
        "**Query:** SELECT count(*), salario_anual from credito group by salario_anual\n",
        "<center>\n",
        "\n",
        "![Quantidade para cada faixa salarial](https://github.com/DanielaDF13/Exploracao-e-analise-de-dados-de-credito-com-SQL/blob/main/img/salario%20anual.png?raw=true)\n",
        "\n",
        "![Grafico para cada faixa salarial](https://github.com/DanielaDF13/Exploracao-e-analise-de-dados-de-credito-com-SQL/blob/main/img/distibui%C3%A7%C3%A3o%20do%20salario%20anual.png?raw=true)\n",
        "\n",
        "</center>\n",
        "\n",
        "> A maioria dos clientes dessa base de dados possui um renda menor que 40K e existem 235 clientes que não informaram ou não consta a faixa salarial.<br>\n",
        "> De certa forma, pode ser interessante para a empresa focar nesse público de mais baixa renda.\n",
        "\n",
        "**Tipo de cartão por cliente**\n",
        "\n",
        "**Query:** SELECT count(*), tipo_cartao from credito group by tipo_cartao\n",
        "<center>\n",
        "\n",
        "![Tipo de cartão por cliente](https://github.com/DanielaDF13/Exploracao-e-analise-de-dados-de-credito-com-SQL/blob/main/img/distribui%C3%A7%C3%A3o%20de%20tipo%20de%20cartao.png?raw=true)\n",
        "\n",
        "![Grafico tipo de cartão por cliente](https://github.com/DanielaDF13/Exploracao-e-analise-de-dados-de-credito-com-SQL/blob/main/img/distribui%C3%A7%C3%A3o%20do%20tipo%20de%20cart%C3%A3o%20grafico.png?raw=true)\n",
        "\n",
        "</center>\n",
        "\n",
        "> Existe uma grande quantidade de cartões do tipo blue e muito pouco dos outros tipos.<br>\n",
        ">Pode ser interessante analisar o crédito dos clientes com cartão blue para ver se um upgrade de cartão seria interessante para esses clientes.\n",
        "\n",
        "**Informação de crédito por tipo de cartão**\n",
        "<br>\n",
        "\n",
        "**Query:** SELECT max(valor_transacoes_12m) as maior_valor_gasto, round(avg(valor_transacoes_12m),2) as  media_valor_gasto, min(valor_transacoes_12m) as min_valor_gasto, round(avg(qtd_produtos),2) as media_quantidade_produto, round(avg(iteracoes_12m),2) as media_interacoes, round(avg(meses_inativo_12m),2) as media_meses_inativos, tipo_cartao from credito group by tipo_cartao\n",
        "<br>\n",
        "\n",
        "<center>\n",
        "\n",
        "![Informação de crédito por tipo de cartão](https://github.com/DanielaDF13/Exploracao-e-analise-de-dados-de-credito-com-SQL/blob/main/img/Informa%C3%A7%C3%A3o%20de%20cr%C3%A9dito%20por%20tipo%20de%20cart%C3%A3o.png?raw=true)\n",
        "\n",
        "</center>\n",
        "\n",
        ">Pode-se notar que a maior valor gasto, média de quantidade de produtos e quantidade de interações para o cartão do tipo blue são maiores e quanto média de meses inativo e mínimo valor gasto são melhores para o cartão do tipo platinum.\n",
        "\n",
        "\n",
        "**Quantos clientes são homens e quantos são mulheres**\n",
        "\n",
        "**Query:** SELECT count(*), sexo from credito group by sexo\n",
        "\n",
        "<center>\n",
        "\n",
        "![Distribuição de sexo](https://github.com/DanielaDF13/Exploracao-e-analise-de-dados-de-credito-com-SQL/blob/main/img/distribui%C3%A7%C3%A3o%20sexo.png?raw=true)\n",
        "\n",
        "![Distribuição de sexo - gráfico](https://github.com/DanielaDF13/Exploracao-e-analise-de-dados-de-credito-com-SQL/blob/main/img/distruibui%C3%A7%C3%A3o%20de%20sexo%20grafico.png?raw=true)\n",
        "\n",
        "</center>\n",
        "\n",
        "> Existe maior proporção de homens nos dados.\n",
        "\n",
        "**Gasto por sexo**\n",
        "\n",
        "**Query:** select max(valor_transacoes_12m) as maior_valor_gasto, round(avg(valor_transacoes_12m),2) as  media_valor_gasto, min(valor_transacoes_12m) as min_valor_gasto, sexo from credito group by sexo\n",
        "\n",
        "\n",
        "![Valor transacoes/sexo](https://github.com/DanielaDF13/Exploracao-e-analise-de-dados-de-credito-com-SQL/blob/main/img/valor%20por%20sexo.png?raw=true)\n",
        "\n",
        "> Os gastos de homens e mulheres são similares.\n",
        "\n",
        "**Idade dos clientes por sexo**\n",
        "\n",
        "**Query:** select avg(idade) as media_idade, min(idade) as min_idade, max(idade) as max_idade, sexo from credito group by sexo\n",
        "![Idade dos clientes por sexo](https://github.com/DanielaDF13/Exploracao-e-analise-de-dados-de-credito-com-SQL/blob/main/img/Idade%20dos%20clientes%20por%20sexo.png?raw=true)\n",
        "\n",
        "> Por meio dessa análise não foi possível extrair nenhuma informação relevante.  A menor idade dos dois sexos é a mesma e a média é muito similar. A unica  diferença é a idade máxima, porém a diferença é muito pequena.\n",
        "\n",
        "**Maior e menor transação dos clientes**\n",
        "\n",
        "**Query:** select min(valor_transacoes_12m) as transacao_minima, max(valor_transacoes_12m) as transacao_minima from credito\n",
        "![Valor transacoes](https://github.com/DanielaDF13/Exploracao-e-analise-de-dados-de-credito-com-SQL/blob/main/img/transacoes%20max%20e%20min.png?raw=true)\n",
        "\n",
        "> Nesse banco de dados temos soma de transações em 12 meses variam de 510.16 a 4776.58.\n",
        "\n",
        "**Características dos clientes que possuem os maiores creditos**\n",
        "\n",
        "**Query:**\n",
        "select max(limite_credito) as limite_credito, escolaridade, tipo_cartao, sexo\n",
        "from credito<br>\n",
        "where escolaridade != 'na'<br>\n",
        "group by  escolaridade, tipo_cartao, sexo <br>\n",
        "order by limite_credito desc<br>\n",
        "limit 10\n",
        "\n",
        "![Características dos clientes que possuem os maiores creditos](https://github.com/DanielaDF13/Exploracao-e-analise-de-dados-de-credito-com-SQL/blob/main/img/caracteristicas%20dos%20clientes%20que%20possuem%20maiores%20creditos.png?raw=true)\n",
        "\n",
        "> Não parece haver um impacto da escolaridade no limite. O limite mais alto é oferecido para um homem sem educação formal. O cartão também parece não estar relacionado com a escolaridade nem com o limite. Dentre os maiores limites, encontramos clientes com cartão: gold, silver, platinum e blue\n",
        "\n",
        "**Características dos clientes que possuem os menores creditos**\n",
        "\n",
        "**Query:**\n",
        "select min(limite_credito) as limite_credito, escolaridade, tipo_cartao, sexo\n",
        "from credito<br>\n",
        "where escolaridade != 'na' <br>\n",
        "group by  escolaridade, tipo_cartao, sexo <br>\n",
        "order by limite_credito asc<br>\n",
        "limit 10\n",
        "\n",
        "![Características dos clientes que possuem os menores creditos](https://github.com/DanielaDF13/Exploracao-e-analise-de-dados-de-credito-com-SQL/blob/main/img/caracteristicas%20dos%20clientes%20que%20possuem%20menores%20creditos.png?raw=true)\n",
        "\n",
        "> Podemos perceber que todos os clientes da seleção possuem cartão do tipo blue e que assim como o limite máximo não há padrão de escolaridade.\n",
        "\n",
        "**O salário por limite**\n",
        "\n",
        "**Query:** select avg(qtd_produtos) as qts_produtos, avg(valor_transacoes_12m) as media_valor_transacoes, avg(limite_credito) as media_limite,  sexo,   salario_anual from credito <br>\n",
        "where salario_anual != 'na'<br>\n",
        "group by sexo, salario_anual<br>\n",
        "order by avg(valor_transacoes_12m) desc\n",
        "\n",
        "![Valor salario_anual Limite](https://github.com/DanielaDF13/Exploracao-e-analise-de-dados-de-credito-com-SQL/blob/main/img/salario%20por%20limite.png?raw=true)\n",
        "'\n",
        ">As pessoas que tem menor faixa salarial também apresentam menor limite de credito e maior valor médio de transações.\n",
        "\n",
        "**Valor de transação por limite de crédito**\n",
        "\n",
        "**Query:** select  valor_transacoes_12m , limite_credito, tipo_cartao, salario_anual from credito <br>\n",
        "where salario_anual != 'na'  \n",
        "order by valor_transacoes_12m desc <br>\n",
        "limit 15 <br>\n",
        "\n",
        "![Valor de transação por limite de crédito](https://github.com/DanielaDF13/Exploracao-e-analise-de-dados-de-credito-com-SQL/blob/main/img/limite%20por%20valor%20transacoes.png?raw=true)\n",
        "\n",
        ">Pode-se notar que vários clientes utilizaram acima de seus limites e que os clientes com maior valor de transação possuem cartão blue.\n"
      ],
      "metadata": {
        "id": "wEyYgPeaQDWx"
      }
    },
    {
      "cell_type": "markdown",
      "source": [
        "# Conclusão\n",
        "\n",
        "Essas foram algumas análises extraídas do dataset de crédito.  \n",
        "\n",
        "Alguns insights interessantes:\n",
        "\n",
        "- a maior parte dos clientes possui renda até 40K\n",
        "- a maior parte dos clientes é masculino!\n",
        "- a escolaridade não parece influenciar no limite nem no tipo do cartão\n",
        "- dentre os menores limites só há presença de cartão blue\n",
        "- a faixa salarial impacta diretamente no limite de crédito\n",
        "- nao existem clientes com salário anual acima de 60K do sexo feminino\n",
        "-Pela grande quantidade de cartões blue pode ser interessante o upgrade para outro nível de cartão vendo que a estatística de valores gastos e quantidade de produto no cartão blue é elevada.\n",
        "-Os clientes com menor limites são os que possuem maior valor de transações seria interessante analisar se possuem bom crédito e aumentar seus limites\n",
        "\n",
        "**Uma exploração maior dos dados pode explicar porque as mulheres tem menor crédito. Isso também pode ser um problema cultural que pode ser repensado.<br> Com uma exploração maior dos dados pode se analisar se dar upgrade para os clientes com melhores estatísticas com cartão blue seria interessante.**"
      ],
      "metadata": {
        "id": "E4V3wyJhZEN5"
      }
    },
    {
      "cell_type": "markdown",
      "source": [],
      "metadata": {
        "id": "oF7LqZK8se_9"
      }
    }
  ]
}